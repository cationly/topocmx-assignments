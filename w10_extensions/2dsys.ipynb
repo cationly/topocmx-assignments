{
 "cells": [
  {
   "cell_type": "markdown",
   "metadata": {},
   "source": [
    "## This is not an assignment, I'm just playing around with rigidity matrices"
   ]
  },
  {
   "cell_type": "code",
   "execution_count": 1,
   "metadata": {
    "collapsed": true
   },
   "outputs": [],
   "source": [
    "import numpy as np"
   ]
  },
  {
   "cell_type": "markdown",
   "metadata": {},
   "source": [
    "Take a 3x4 2D object with bars:\n",
    "\n",
    "    X -- X -- X -- X\n",
    "    |    |    |    |\n",
    "    X -- X -- X -- X\n",
    "    |    |    |    |\n",
    "    X -- X -- X -- X\n",
    "    \n",
    "This has $d = 2$, $N_s = 12$, $N_b = 17$, with 3 trivial zero modes.\n",
    "\n",
    "There should be $dN_s - N_b$ = 7 zero modes, 4 of which should be non-trivial."
   ]
  },
  {
   "cell_type": "code",
   "execution_count": 2,
   "metadata": {
    "collapsed": false
   },
   "outputs": [
    {
     "name": "stdout",
     "output_type": "stream",
     "text": [
      "-+......................\n",
      "\n",
      ".-+.....................\n",
      "\n",
      "..-+....................\n",
      "\n",
      "....-+..................\n",
      "\n",
      ".....-+.................\n",
      "\n",
      "......-+................\n",
      "\n",
      "........-+..............\n",
      "\n",
      ".........-+.............\n",
      "\n",
      "..........-+............\n",
      "\n",
      "............-...+.......\n",
      "\n",
      ".............-...+......\n",
      "\n",
      "..............-...+.....\n",
      "\n",
      "...............-...+....\n",
      "\n",
      "................-...+...\n",
      "\n",
      ".................-...+..\n",
      "\n",
      "..................-...+.\n",
      "\n",
      "...................-...+\n",
      "\n"
     ]
    }
   ],
   "source": [
    "R = np.zeros ((17, 24))\n",
    "# rows: stresses - 9 horizontal, then 8 vertical\n",
    "# columns: 12 X displacements followed by 12 Y displacements\n",
    "\n",
    "# add horizontal stresses\n",
    "for rowoffset, coloffset, i in zip ([0,0,0,0,3,3,3,3,6,6,6,6], [0,0,0,0,4,4,4,4,8,8,8,8], range(12)):\n",
    "    relative_i = i - coloffset\n",
    "    if relative_i != 0: # this is not the left edge\n",
    "        R[rowoffset+relative_i-1, i] = +1\n",
    "    if relative_i != 3: # this is not the right edge\n",
    "        R[rowoffset+relative_i, i] = -1\n",
    "    \n",
    "# add vertical stresses\n",
    "for rowoffset, coloffset, i_from0 in zip ([9,9,9,9,13,13,13,13,17,17,17,17], [0,0,0,0,4,4,4,4,8,8,8,8], range(12)):\n",
    "    relative_i = i_from0 - coloffset\n",
    "    i = i_from0 + 12\n",
    "    if rowoffset != 9: # this is not the top edge\n",
    "        R[rowoffset+relative_i-4, i] = +1\n",
    "    if rowoffset != 17: # this is not the bottom edge\n",
    "        R[rowoffset+relative_i, i] = -1\n",
    "        \n",
    "# print rigidity\n",
    "for row in R:\n",
    "    print(''.join('-.+'[int(np.sign(r))+1] for r in row) + '\\n')"
   ]
  },
  {
   "cell_type": "markdown",
   "metadata": {},
   "source": [
    "Now I can construct a square matrix calculating the restoring forces when forces are applied to the points."
   ]
  },
  {
   "cell_type": "code",
   "execution_count": 3,
   "metadata": {
    "collapsed": false
   },
   "outputs": [],
   "source": [
    "restoring_force = -R.T.dot(R)"
   ]
  },
  {
   "cell_type": "code",
   "execution_count": 4,
   "metadata": {
    "collapsed": false
   },
   "outputs": [],
   "source": [
    "w, v = np.linalg.eig (restoring_force)"
   ]
  },
  {
   "cell_type": "code",
   "execution_count": 5,
   "metadata": {
    "collapsed": false
   },
   "outputs": [
    {
     "data": {
      "text/plain": [
       "7"
      ]
     },
     "execution_count": 5,
     "metadata": {},
     "output_type": "execute_result"
    }
   ],
   "source": [
    "np.count_nonzero (np.abs (w) < 1e-15)"
   ]
  },
  {
   "cell_type": "markdown",
   "metadata": {},
   "source": [
    "Okay, that's 7 zero modes. Great!\n",
    "\n",
    "Let's just check that the translational modes are eigenvectors."
   ]
  },
  {
   "cell_type": "code",
   "execution_count": 6,
   "metadata": {
    "collapsed": false
   },
   "outputs": [],
   "source": [
    "x_trans = np.array([1]*12 + [0] * 12)\n",
    "y_trans = np.array([0]*12 + [1] * 12)"
   ]
  },
  {
   "cell_type": "code",
   "execution_count": 7,
   "metadata": {
    "collapsed": false
   },
   "outputs": [
    {
     "data": {
      "text/plain": [
       "array([ 0.,  0.,  0.,  0.,  0.,  0.,  0.,  0.,  0.,  0.,  0.,  0.,  0.,\n",
       "        0.,  0.,  0.,  0.])"
      ]
     },
     "execution_count": 7,
     "metadata": {},
     "output_type": "execute_result"
    }
   ],
   "source": [
    "R.dot(x_trans)"
   ]
  },
  {
   "cell_type": "code",
   "execution_count": 8,
   "metadata": {
    "collapsed": false
   },
   "outputs": [
    {
     "data": {
      "text/plain": [
       "array([ 0.,  0.,  0.,  0.,  0.,  0.,  0.,  0.,  0.,  0.,  0.,  0.,  0.,\n",
       "        0.,  0.,  0.,  0.])"
      ]
     },
     "execution_count": 8,
     "metadata": {},
     "output_type": "execute_result"
    }
   ],
   "source": [
    "R.dot(y_trans)"
   ]
  },
  {
   "cell_type": "markdown",
   "metadata": {},
   "source": [
    "Okay. Now let's remove those extra modes by adding extra contraints. Let's just add one, somewhere.\n",
    "\n",
    "    X -- X -- X -- X\n",
    "    |    | \\\\ |    |\n",
    "    X -- X -- X -- X\n",
    "    |    |    |    |\n",
    "    X -- X -- X -- X\n",
    "    \n",
    "This has $d = 2$, $N_s = 12$, $N_b = 18$, with 3 trivial zero modes.\n",
    "\n",
    "There should be one zero mode fewer..."
   ]
  },
  {
   "cell_type": "code",
   "execution_count": 9,
   "metadata": {
    "collapsed": false
   },
   "outputs": [],
   "source": [
    "R2 = np.zeros ((18, 24))\n",
    "\n",
    "R2[:17, :] = R\n",
    "R2[17,1] = R2[17,12+1] = +np.sqrt(2)\n",
    "R2[17,4+2] = R2[17,12+4+2] = -np.sqrt(2)"
   ]
  },
  {
   "cell_type": "code",
   "execution_count": 10,
   "metadata": {
    "collapsed": false
   },
   "outputs": [
    {
     "data": {
      "text/plain": [
       "6"
      ]
     },
     "execution_count": 10,
     "metadata": {},
     "output_type": "execute_result"
    }
   ],
   "source": [
    "restoring_force2 = -R2.T.dot(R2)\n",
    "w2, v2 = np.linalg.eig (restoring_force2)\n",
    "np.count_nonzero(np.abs(w2) < 1e-15)"
   ]
  },
  {
   "cell_type": "markdown",
   "metadata": {},
   "source": [
    "Okay. I'm reasonably happy with that. Let's just take this just 4 steps further:\n",
    "\n",
    "    X -- X -- X -- X\n",
    "    | // | \\\\ | // |\n",
    "    X -- X -- X -- X\n",
    "    | \\\\ | // |    |\n",
    "    X -- X -- X -- X"
   ]
  },
  {
   "cell_type": "code",
   "execution_count": 11,
   "metadata": {
    "collapsed": true
   },
   "outputs": [],
   "source": [
    "R3 = np.zeros ((22, 24))\n",
    "R3[:18,:] = R2\n",
    "R3[18,1] = R3[18,12+1] = -np.sqrt(2)\n",
    "R3[18,4+0] = R3[18,12+4+0] = +np.sqrt(2)\n",
    "R3[18,3] = R3[18,12+3] = -np.sqrt(2)\n",
    "R3[18,4+2] = R3[18,12+4+2] = +np.sqrt(2)\n",
    "R3[18,4+2] = R3[18,12+4+2] = -np.sqrt(2)\n",
    "R3[18,8+1] = R3[18,12+8+1] = +np.sqrt(2)\n",
    "R3[18,4+0] = R3[18,12+4+0] = +np.sqrt(2)\n",
    "R3[18,8+1] = R3[18,12+8+1] = -np.sqrt(2)"
   ]
  },
  {
   "cell_type": "code",
   "execution_count": 12,
   "metadata": {
    "collapsed": false
   },
   "outputs": [
    {
     "data": {
      "text/plain": [
       "5"
      ]
     },
     "execution_count": 12,
     "metadata": {},
     "output_type": "execute_result"
    }
   ],
   "source": [
    "restoring_force3 = -R3.T.dot(R3)\n",
    "w3, v3 = np.linalg.eig (restoring_force3)\n",
    "np.count_nonzero(np.abs(w3) < 1e-15)"
   ]
  },
  {
   "cell_type": "markdown",
   "metadata": {},
   "source": [
    "Apparently it's not so easy to find the right bonds without simply increasing self-stress."
   ]
  }
 ],
 "metadata": {
  "kernelspec": {
   "display_name": "Python 3",
   "language": "python",
   "name": "python3"
  },
  "language_info": {
   "codemirror_mode": {
    "name": "ipython",
    "version": 3
   },
   "file_extension": ".py",
   "mimetype": "text/x-python",
   "name": "python",
   "nbconvert_exporter": "python",
   "pygments_lexer": "ipython3",
   "version": "3.5.1+"
  },
  "widgets": {
   "state": {},
   "version": "1.0.0"
  }
 },
 "nbformat": 4,
 "nbformat_minor": 0
}
